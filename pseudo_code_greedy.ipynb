{
 "cells": [
  {
   "cell_type": "markdown",
   "metadata": {},
   "source": [
    "Pseudo Code for **GREEDY** algorithm"
   ]
  },
  {
   "cell_type": "code",
   "execution_count": 1,
   "metadata": {},
   "outputs": [],
   "source": [
    "import pandas as pd\n",
    "from multiprocessing import Pool\n",
    "from threading import Thread, Barrier, Lock, get_ident\n",
    "from queue import Queue\n",
    "import copy\n",
    "raw = pd.read_pickle(\"lb_algo_dataframe.bz2\")\n",
    "nprocs = 480"
   ]
  },
  {
   "cell_type": "markdown",
   "metadata": {},
   "source": [
    "With a single AllGather MPI operation all load_imbalances for all processors are synced across all processors. Processors update this ```load_imbalance``` list consistently during the partitioning"
   ]
  },
  {
   "cell_type": "code",
   "execution_count": 2,
   "metadata": {},
   "outputs": [],
   "source": [
    "avg_weight = raw[' weight'].sum()/nprocs\n",
    "load_imbalance = [ (raw[raw[' source_proc'] == x][' weight'].sum()-avg_weight)/avg_weight for x in range(nprocs) ] "
   ]
  },
  {
   "cell_type": "markdown",
   "metadata": {},
   "source": [
    "The first part of the algorithm determines how many block are computed locally, for the remaining blocks we execute the iterative **GREEDY** algoritm"
   ]
  },
  {
   "cell_type": "code",
   "execution_count": 2,
   "metadata": {},
   "outputs": [
    {
     "name": "stdout",
     "output_type": "stream",
     "text": [
      "xxxxxxxxxxxxxxxxxxxxxxxxxxxxxxxxxxxxxxxxxxxxxxxxxxxxxxxxxxxxxxxxxxxx\n",
      "initial stage done!\n"
     ]
    }
   ],
   "source": [
    "\"\"\"\n",
    "Calculate for each process which grid cells do not need to be offloaded and can be computed locally.\n",
    "Set the compute_proc property to -1 for each cell that can be offloaded\n",
    "\"\"\"\n",
    "def initial_calc(x):\n",
    "  proc = raw[raw[' source_proc'] == x].copy()\n",
    "  proc = proc.reset_index(drop=True)\n",
    "  proc[' compute_proc'] = x\n",
    "  weight = 0\n",
    "  for y in range(proc.shape[0]):\n",
    "    weight += proc.iloc[y][' weight']\n",
    "    if weight > avg_weight:\n",
    "      proc.loc[y+1:,' compute_proc'] = -1\n",
    "      print(\"x\",end=\"\", flush=True)\n",
    "      break\n",
    "  return proc, proc.shape[0]-(y+1), weight\n",
    "  \n",
    "processed = Pool(8).map(initial_calc,range(nprocs))\n",
    "print(\"\\ninitial stage done!\")"
   ]
  },
  {
   "cell_type": "markdown",
   "metadata": {},
   "source": [
    "This is the iterative greedy algorithm, MPI is simulated by point-to-point queues between all threads. The result is stored in a shared array, in the actual algorithm this is kept locally"
   ]
  },
  {
   "cell_type": "code",
   "execution_count": 3,
   "metadata": {},
   "outputs": [],
   "source": [
    "#lists (one for each processor)\n",
    "weights, to_offload, cur_weight = map(list,zip(*processed))\n",
    "\n",
    "#point to point 'mpi' communication\n",
    "MPI = [[Queue()for _ in range(nprocs)]for _ in range(nprocs)]\n",
    "\n",
    "#resulting partitioning after loadbalancing\n",
    "new_weights = [None]*nprocs\n",
    "\n",
    "\"\"\"\n",
    "*L (load imbalance):* is consistent between all processors during the algorithm\n",
    "*weights:* weight and compute location of resident cells, \n",
    "*cur_weight:* cumulative weight of cells that will be computed on this processor\n",
    "*to_offload:* number of resident cells that have not yet been assigned to a processor\n",
    "\"\"\"\n",
    "def GREEDY(our_proc,L,weights, cur_weight, to_offload):\n",
    "  # In the worst case we communicate with everyone\n",
    "  for i in range(1,nprocs): \n",
    "    our_val = L[our_proc]\n",
    "    # We try to offload to next_proc, and try to receive from prev_proc\n",
    "    next_proc = (our_proc+i)%nprocs\n",
    "    prev_proc = (our_proc-i+nprocs)%nprocs\n",
    "\n",
    "    # Send information about offloadable blocks to the next process\n",
    "    MPI[our_proc][next_proc].put(to_offload)\n",
    "    MPI[our_proc][next_proc].put(weights.loc[weights.shape[0]-to_offload:,' weight'])\n",
    "   \n",
    "    # Accept cells if we have room\n",
    "    weight_size = MPI[prev_proc][our_proc].get()\n",
    "    their_weights = MPI[prev_proc][our_proc].get()\n",
    "    offloaded = 0\n",
    "    for y in range(weight_size):\n",
    "      if cur_weight > avg_weight:\n",
    "        break\n",
    "      offloaded += 1\n",
    "      cur_weight += their_weights.iloc[y]\n",
    "    MPI[our_proc][prev_proc].put(offloaded)\n",
    "\n",
    "    # Update information about offloaded cells\n",
    "    offloaded = MPI[next_proc][our_proc].get()\n",
    "    weights.loc[weights.shape[0]-to_offload:weights.shape[0]-to_offload+offloaded,' compute_proc'] = next_proc\n",
    "    to_offload -= offloaded\n",
    "\n",
    "    # update L (load imbalance) for every process\n",
    "    for j in range(nprocs):\n",
    "      k = (j+i)%nprocs\n",
    "      if L[j] <= 0:\n",
    "        continue\n",
    "      if (L[j] * L[k]) >= 0:\n",
    "        continue\n",
    "      m = min(abs(L[j]),abs(L[k]))\n",
    "      L[j] -= m\n",
    "      L[k] += m\n",
    "        \n",
    "    # Stop Conditions \n",
    "    if (max(L) < 0.02):\n",
    "      new_weights[our_proc] = weights\n",
    "      return \n",
    "      \n",
    "  new_weights[our_proc] = weights\n",
    "  \n",
    "#instead of MPI, for this example we use threads  \n",
    "threads = [Thread(target=GREEDY,args=( x, copy.deepcopy(load_imbalance), copy.deepcopy(weights[x])\n",
    "                                     , copy.deepcopy(cur_weight[x]), copy.deepcopy(to_offload[x]))) for x in range(nprocs)]\n",
    "for i in range(len(threads)):\n",
    "  threads[i].start()\n",
    "for i in range(len(threads)):\n",
    "  threads[i].join()"
   ]
  },
  {
   "cell_type": "markdown",
   "metadata": {},
   "source": [
    "Now we can print the resulting partitioning per process"
   ]
  },
  {
   "cell_type": "code",
   "execution_count": 8,
   "metadata": {},
   "outputs": [
    {
     "data": {
      "text/html": [
       "<div>\n",
       "<style scoped>\n",
       "    .dataframe tbody tr th:only-of-type {\n",
       "        vertical-align: middle;\n",
       "    }\n",
       "\n",
       "    .dataframe tbody tr th {\n",
       "        vertical-align: top;\n",
       "    }\n",
       "\n",
       "    .dataframe thead th {\n",
       "        text-align: right;\n",
       "    }\n",
       "</style>\n",
       "<table border=\"1\" class=\"dataframe\">\n",
       "  <thead>\n",
       "    <tr style=\"text-align: right;\">\n",
       "      <th></th>\n",
       "      <th>id</th>\n",
       "      <th>weight</th>\n",
       "      <th>source_proc</th>\n",
       "      <th>compute_proc</th>\n",
       "    </tr>\n",
       "  </thead>\n",
       "  <tbody>\n",
       "    <tr>\n",
       "      <th>0</th>\n",
       "      <td>8193</td>\n",
       "      <td>113200.0</td>\n",
       "      <td>3</td>\n",
       "      <td>3</td>\n",
       "    </tr>\n",
       "    <tr>\n",
       "      <th>1</th>\n",
       "      <td>8194</td>\n",
       "      <td>58780.0</td>\n",
       "      <td>3</td>\n",
       "      <td>3</td>\n",
       "    </tr>\n",
       "    <tr>\n",
       "      <th>2</th>\n",
       "      <td>8195</td>\n",
       "      <td>47210.0</td>\n",
       "      <td>3</td>\n",
       "      <td>3</td>\n",
       "    </tr>\n",
       "    <tr>\n",
       "      <th>3</th>\n",
       "      <td>8196</td>\n",
       "      <td>47140.0</td>\n",
       "      <td>3</td>\n",
       "      <td>3</td>\n",
       "    </tr>\n",
       "    <tr>\n",
       "      <th>4</th>\n",
       "      <td>8197</td>\n",
       "      <td>50580.0</td>\n",
       "      <td>3</td>\n",
       "      <td>3</td>\n",
       "    </tr>\n",
       "    <tr>\n",
       "      <th>...</th>\n",
       "      <td>...</td>\n",
       "      <td>...</td>\n",
       "      <td>...</td>\n",
       "      <td>...</td>\n",
       "    </tr>\n",
       "    <tr>\n",
       "      <th>3067</th>\n",
       "      <td>11260</td>\n",
       "      <td>654100.0</td>\n",
       "      <td>3</td>\n",
       "      <td>8</td>\n",
       "    </tr>\n",
       "    <tr>\n",
       "      <th>3068</th>\n",
       "      <td>11261</td>\n",
       "      <td>539500.0</td>\n",
       "      <td>3</td>\n",
       "      <td>8</td>\n",
       "    </tr>\n",
       "    <tr>\n",
       "      <th>3069</th>\n",
       "      <td>11262</td>\n",
       "      <td>537900.0</td>\n",
       "      <td>3</td>\n",
       "      <td>8</td>\n",
       "    </tr>\n",
       "    <tr>\n",
       "      <th>3070</th>\n",
       "      <td>11263</td>\n",
       "      <td>333900.0</td>\n",
       "      <td>3</td>\n",
       "      <td>8</td>\n",
       "    </tr>\n",
       "    <tr>\n",
       "      <th>3071</th>\n",
       "      <td>11264</td>\n",
       "      <td>226200.0</td>\n",
       "      <td>3</td>\n",
       "      <td>8</td>\n",
       "    </tr>\n",
       "  </tbody>\n",
       "</table>\n",
       "<p>3072 rows × 4 columns</p>\n",
       "</div>"
      ],
      "text/plain": [
       "         id    weight   source_proc   compute_proc\n",
       "0      8193  113200.0             3              3\n",
       "1      8194   58780.0             3              3\n",
       "2      8195   47210.0             3              3\n",
       "3      8196   47140.0             3              3\n",
       "4      8197   50580.0             3              3\n",
       "...     ...       ...           ...            ...\n",
       "3067  11260  654100.0             3              8\n",
       "3068  11261  539500.0             3              8\n",
       "3069  11262  537900.0             3              8\n",
       "3070  11263  333900.0             3              8\n",
       "3071  11264  226200.0             3              8\n",
       "\n",
       "[3072 rows x 4 columns]"
      ]
     },
     "execution_count": 8,
     "metadata": {},
     "output_type": "execute_result"
    }
   ],
   "source": [
    "new_weights[3]"
   ]
  },
  {
   "cell_type": "code",
   "execution_count": null,
   "metadata": {},
   "outputs": [],
   "source": []
  }
 ],
 "metadata": {
  "kernelspec": {
   "display_name": "PyPy3",
   "language": "python",
   "name": "pypy3"
  },
  "language_info": {
   "codemirror_mode": {
    "name": "ipython",
    "version": 3
   },
   "file_extension": ".py",
   "mimetype": "text/x-python",
   "name": "python",
   "nbconvert_exporter": "python",
   "pygments_lexer": "ipython3",
   "version": "3.8.10"
  }
 },
 "nbformat": 4,
 "nbformat_minor": 4
}
